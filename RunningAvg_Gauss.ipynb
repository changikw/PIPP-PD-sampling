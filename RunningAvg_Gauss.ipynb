{
 "cells": [
  {
   "cell_type": "code",
   "execution_count": 1,
   "id": "254c8ace",
   "metadata": {},
   "outputs": [],
   "source": [
    "import numpy as np\n",
    "import matplotlib.pyplot as plt\n",
    "import matplotlib\n",
    "from scipy import stats\n",
    "%matplotlib inline\n",
    "from scipy.spatial.distance import pdist,cdist\n",
    "from scipy.stats import gaussian_kde\n",
    "from scipy.spatial import Voronoi, voronoi_plot_2d, ConvexHull\n",
    "from collections import defaultdict\n",
    "from shapely.geometry import Polygon,Point\n",
    "from operator import itemgetter\n",
    "import gudhi\n",
    "import scipy\n",
    "from scipy import optimize\n",
    "from scipy.spatial.distance import cdist\n",
    "from sklearn.mixture import GaussianMixture\n",
    "import patsy\n",
    "import statsmodels.api as sm\n",
    "from statsmodels.genmod.families import Poisson\n",
    "from statsmodels.distributions.empirical_distribution import ECDF\n",
    "    \n",
    "import pandas as pd"
   ]
  },
  {
   "cell_type": "code",
   "execution_count": 2,
   "id": "ea7dbd1e",
   "metadata": {},
   "outputs": [],
   "source": [
    "#importaion of PD samples from respective codes\n",
    "D_St_low = np.load(\"PDchains/LowNoiseStrauss_G.npy\",allow_pickle=True).item()\n",
    "D_St_med = np.load(\"PDchains/MedNoiseStrauss_G.npy\",allow_pickle=True).item()\n",
    "D_St_hig = np.load(\"PDchains/HigNoiseStrauss_G.npy\",allow_pickle=True).item()\n",
    "\n",
    "D_PC_low = np.load(\"PDchains/LowNoisePCPI_G.npy\",allow_pickle=True).item()\n",
    "D_PC_med = np.load(\"PDchains/MedNoisePCPI_G.npy\",allow_pickle=True).item()\n",
    "D_PC_hig = np.load(\"PDchains/HigNoisePCPI_G.npy\",allow_pickle=True).item()\n",
    "\n",
    "D_SC_low = np.load(\"PDchains/LowNoiseSC_G.npy\",allow_pickle=True).item()\n",
    "D_SC_med = np.load(\"PDchains/MedNoiseSC_G.npy\",allow_pickle=True).item()\n",
    "D_SC_hig = np.load(\"PDchains/HigNoiseSC_G.npy\",allow_pickle=True).item()\n",
    "\n",
    "pd1_low = np.load(\"PDoriginal/PDlownoise.npy\",allow_pickle=True)\n",
    "pd1_med = np.load(\"PDoriginal/PDmednoise.npy\",allow_pickle=True)\n",
    "pd1_hig = np.load(\"PDoriginal/PDhignoise.npy\",allow_pickle=True)\n"
   ]
  },
  {
   "cell_type": "code",
   "execution_count": 3,
   "id": "0d08ae52",
   "metadata": {},
   "outputs": [],
   "source": [
    "order_low = np.sort(pd1_low[:,1])[::-1]\n",
    "order_med = np.sort(pd1_med[:,1])[::-1]\n",
    "order_hig = np.sort(pd1_hig[:,1])[::-1]\n",
    "ite = 100000"
   ]
  },
  {
   "cell_type": "code",
   "execution_count": 4,
   "id": "05b54b6a",
   "metadata": {},
   "outputs": [],
   "source": [
    "def RunAvg(D_comp_loglin,ite):\n",
    "    \"\"\"\n",
    "    etracts the Nth highest point's persistense value for N=1,2,3,4\n",
    "    @input: D_comp_loglin- a 'ite' sized dict consisting of 2xk numpy array\n",
    "    @itput: ite- value\n",
    "    @output: classloglinX a 1x'ite' array consiting of the Xth most persisent point in D_comp_loglin\n",
    "    \"\"\"\n",
    "    classloglin1 = np.array([np.max(D_comp_loglin[i][:,1]) for i in range(ite)])\n",
    "    #to build classloglin2, we need to grab the second highest persistence from each of the ite iterations\n",
    "    #however, some diagrams may not have enough points. In that case, we set value to nan and omit\n",
    "    classloglin2 = np.zeros(ite) #initialize classloglin 2\n",
    "    for i in range(ite): #loop over the ite iterations\n",
    "        D_tmp = D_comp_loglin[i].copy() #set D_tmp to copy in order to not change the original\n",
    "        pers_tmp = np.sort(D_tmp[:,1])[::-1] #sort persistence in D_tmp from largest to smallest\n",
    "        if pers_tmp.shape[0]<5: #if there are not enough points, pad on right with nan\n",
    "            tmp = np.nan*np.zeros(5)\n",
    "            tmp[:pers_tmp.shape[0]] = pers_tmp\n",
    "            pers_tmp = tmp\n",
    "        classloglin2[i] = pers_tmp[1] #grab the second highest value (or nan)\n",
    "    classloglin2 = classloglin2[classloglin2==classloglin2] #omit the nan values\n",
    "    #to build classloglin3, we need to grab the second highest persistence from each of the ite iterations\n",
    "    #however, some diagrams may not have enough points. In that case, we set value to nan and omit\n",
    "    classloglin3 = np.zeros(ite) #initialize classloglin 2\n",
    "    for i in range(ite): #loop over the ite iterations\n",
    "        D_tmp = D_comp_loglin[i].copy() #set D_tmp to copy in order to not change the original\n",
    "        pers_tmp = np.sort(D_tmp[:,1])[::-1] #sort persistence in D_tmp from largest to smallest\n",
    "        if pers_tmp.shape[0]<5: #if there are not enough points, pad on right with nan\n",
    "            tmp = np.nan*np.zeros(5)\n",
    "            tmp[:pers_tmp.shape[0]] = pers_tmp\n",
    "            pers_tmp = tmp\n",
    "        classloglin3[i] = pers_tmp[2] #grab the third highest value (or nan)\n",
    "    classloglin3 = classloglin3[classloglin3==classloglin3] #omit the nan values\n",
    "    #to build classloglin4, we need to grab the second highest persistence from each of the ite iterations\n",
    "    #however, some diagrams may not have enough points. In that case, we set value to nan and omit\n",
    "    classloglin4 = np.zeros(ite) #initialize classloglin 2\n",
    "    for i in range(ite): #loop over the ite iterations\n",
    "        D_tmp = D_comp_loglin[i].copy() #set D_tmp to copy in order to not change the original\n",
    "        pers_tmp = np.sort(D_tmp[:,1])[::-1] #sort persistence in D_tmp from largest to smallest\n",
    "        if pers_tmp.shape[0]<5: #if there are not enough points, pad on right with nan\n",
    "            tmp = np.nan*np.zeros(5)\n",
    "            tmp[:pers_tmp.shape[0]] = pers_tmp\n",
    "            pers_tmp = tmp\n",
    "        classloglin4[i] = pers_tmp[3] #grab the fourth highest value (or nan)\n",
    "    classloglin4 = classloglin4[classloglin4==classloglin4] #omit the nan values\n",
    "    return classloglin1, classloglin2, classloglin3, classloglin4"
   ]
  },
  {
   "cell_type": "code",
   "execution_count": 5,
   "id": "53148e25",
   "metadata": {},
   "outputs": [],
   "source": [
    "o1_PC_low, o2_PC_low, o3_PC_low, o4_PC_low = RunAvg(D_PC_low,ite) #PCPIlow\n",
    "o1_PC_med, o2_PC_med, o3_PC_med, o4_PC_med = RunAvg(D_PC_med,ite) #PCPImedium\n",
    "o1_PC_hig, o2_PC_hig, o3_PC_hig, o4_PC_hig = RunAvg(D_PC_hig,ite) #PCPIhigh\n",
    "\n",
    "o1_St_low, o2_St_low, o3_St_low, o4_St_low = RunAvg(D_St_low,ite) #Strausslow\n",
    "o1_St_med, o2_St_med, o3_St_med, o4_St_med = RunAvg(D_St_med,ite) #Straussmedium\n",
    "o1_St_hig, o2_St_hig, o3_St_hig, o4_St_hig = RunAvg(D_St_hig,ite) #Strausshigh\n",
    "\n",
    "o1_SC_low, o2_SC_low, o3_SC_low, o4_SC_low = RunAvg(D_SC_low,ite) #Softcorelow\n",
    "o1_SC_med, o2_SC_med, o3_SC_med, o4_SC_med = RunAvg(D_SC_med,ite) #Softcoremedium\n",
    "o1_SC_hig, o2_SC_hig, o3_SC_hig, o4_SC_hig = RunAvg(D_SC_hig,ite) #Softcorehigh"
   ]
  },
  {
   "cell_type": "code",
   "execution_count": 6,
   "id": "1831f3e4",
   "metadata": {},
   "outputs": [],
   "source": [
    "k=np.array([2,2,3,31,1]) #temp\n",
    "yaxis=np.array([0,1.2])"
   ]
  },
  {
   "cell_type": "code",
   "execution_count": 7,
   "id": "50e2378e",
   "metadata": {
    "scrolled": true
   },
   "outputs": [
    {
     "name": "stdout",
     "output_type": "stream",
     "text": [
      "o(1) Gauss low noise\n",
      "low o(1) St 0.5939450200805536\n",
      "low o(1) PC 0.35759117800069407\n",
      "low o(1) SC 0.48258037756590016\n"
     ]
    }
   ],
   "source": [
    "print('o(1) Gauss low noise')\n",
    "\n",
    "cdiff = np.abs(o1_St_low - order_low[0])\n",
    "s1l=[np.mean(cdiff[:i]) for i in range(1,ite)]\n",
    "print('low o(1) St', s1l[-1])\n",
    "\n",
    "cdiff = np.abs(o1_PC_low - order_low[0])\n",
    "p1l=[np.mean(cdiff[:i]) for i in range(1,ite)]\n",
    "print('low o(1) PC', p1l[-1])\n",
    "\n",
    "cdiff = np.abs(o1_SC_low - order_low[0])\n",
    "c1l=[np.mean(cdiff[:i]) for i in range(1,ite)]\n",
    "print('low o(1) SC', c1l[-1])\n"
   ]
  },
  {
   "cell_type": "code",
   "execution_count": 8,
   "id": "26e159bf",
   "metadata": {},
   "outputs": [
    {
     "name": "stdout",
     "output_type": "stream",
     "text": [
      "o(2) Gauss low noise\n",
      "low o(2) St 0.6083033993604756\n",
      "low o(2) PC 0.3752437932241743\n",
      "low o(2) SC 0.47342197369010164\n"
     ]
    }
   ],
   "source": [
    "print('o(2) Gauss low noise')\n",
    "\n",
    "cdiff = np.abs(o2_St_low - order_low[1])\n",
    "s2l=[np.mean(cdiff[:i]) for i in range(1,ite)]\n",
    "print('low o(2) St', s2l[-1])\n",
    "\n",
    "cdiff = np.abs(o2_PC_low - order_low[1])\n",
    "p2l=[np.mean(cdiff[:i]) for i in range(1,ite)]\n",
    "print('low o(2) PC', p2l[-1])\n",
    "\n",
    "cdiff = np.abs(o2_SC_low - order_low[1])\n",
    "c2l=[np.mean(cdiff[:i]) for i in range(1,ite)]\n",
    "print('low o(2) SC', c2l[-1])\n"
   ]
  },
  {
   "cell_type": "code",
   "execution_count": 9,
   "id": "a7da0bef",
   "metadata": {},
   "outputs": [
    {
     "name": "stdout",
     "output_type": "stream",
     "text": [
      "o(3) Gauss low noise\n",
      "low o(3) St 0.5675925170974566\n",
      "low o(3) PC 0.37706142390945624\n",
      "low o(3) SC 0.453744809724931\n"
     ]
    }
   ],
   "source": [
    "print('o(3) Gauss low noise')\n",
    "\n",
    "cdiff = np.abs(o3_St_low - order_low[2])\n",
    "s3l=[np.mean(cdiff[:i]) for i in range(1,ite)]\n",
    "print('low o(3) St', s3l[-1])\n",
    "\n",
    "cdiff = np.abs(o3_PC_low - order_low[2])\n",
    "p3l=[np.mean(cdiff[:i]) for i in range(1,ite)]\n",
    "print('low o(3) PC', p3l[-1])\n",
    "\n",
    "cdiff = np.abs(o3_SC_low - order_low[2])\n",
    "c3l=[np.mean(cdiff[:i]) for i in range(1,ite)]\n",
    "print('low o(3) SC', c3l[-1])\n"
   ]
  },
  {
   "cell_type": "code",
   "execution_count": 10,
   "id": "87c14021",
   "metadata": {},
   "outputs": [
    {
     "name": "stdout",
     "output_type": "stream",
     "text": [
      "o(4) Gauss low noise\n",
      "low o(4) St 0.24533116786059683\n",
      "low o(4) PC 0.34463295168123115\n",
      "low o(4) SC 0.2766024606054406\n"
     ]
    }
   ],
   "source": [
    "print('o(4) Gauss low noise')\n",
    "\n",
    "cdiff = np.abs(o4_St_low - order_low[3])\n",
    "s4l=[np.mean(cdiff[:i]) for i in range(1,ite)]\n",
    "print('low o(4) St', s4l[-1])\n",
    "\n",
    "cdiff = np.abs(o4_PC_low - order_low[3])\n",
    "p4l=[np.mean(cdiff[:i]) for i in range(1,ite)]\n",
    "print('low o(4) PC', p4l[-1])\n",
    "\n",
    "cdiff = np.abs(o4_SC_low - order_low[3])\n",
    "c4l=[np.mean(cdiff[:i]) for i in range(1,ite)]\n",
    "print('low o(4) SC', c4l[-1])\n"
   ]
  },
  {
   "cell_type": "code",
   "execution_count": 11,
   "id": "d5434b09",
   "metadata": {},
   "outputs": [
    {
     "name": "stdout",
     "output_type": "stream",
     "text": [
      "o(1) Gauss med noise\n",
      "med o(1) St 0.4320598093574494\n",
      "med o(1) PC 0.41088998794191833\n",
      "med o(1) SC 0.42016215927531864\n"
     ]
    }
   ],
   "source": [
    "print('o(1) Gauss med noise')\n",
    "\n",
    "cdiff = np.abs(o1_St_med - order_med[0])\n",
    "s1m=[np.mean(cdiff[:i]) for i in range(1,ite)]\n",
    "print('med o(1) St', s1m[-1])\n",
    "\n",
    "cdiff = np.abs(o1_PC_med - order_med[0])\n",
    "p1m=[np.mean(cdiff[:i]) for i in range(1,ite)]\n",
    "print('med o(1) PC', p1m[-1])\n",
    "\n",
    "cdiff = np.abs(o1_SC_med - order_med[0])\n",
    "c1m=[np.mean(cdiff[:i]) for i in range(1,ite)]\n",
    "print('med o(1) SC', c1m[-1])\n"
   ]
  },
  {
   "cell_type": "code",
   "execution_count": 12,
   "id": "6e63c4d9",
   "metadata": {},
   "outputs": [
    {
     "name": "stdout",
     "output_type": "stream",
     "text": [
      "o(2) Gauss med noise\n",
      "St 0.4152516894279083\n",
      "PC 0.3882976549874665\n",
      "SC 0.3964770074533698\n"
     ]
    }
   ],
   "source": [
    "print('o(2) Gauss med noise')\n",
    "\n",
    "cdiff = np.abs(o2_St_med - order_med[1])\n",
    "s2m=[np.mean(cdiff[:i]) for i in range(1,ite)]\n",
    "print('St', s2m[-1])\n",
    "\n",
    "cdiff = np.abs(o2_PC_med - order_med[1])\n",
    "p2m=[np.mean(cdiff[:i]) for i in range(1,ite)]\n",
    "print('PC', p2m[-1])\n",
    "\n",
    "cdiff = np.abs(o2_SC_med - order_med[1])\n",
    "c2m=[np.mean(cdiff[:i]) for i in range(1,ite)]\n",
    "print('SC', c2m[-1])\n"
   ]
  },
  {
   "cell_type": "code",
   "execution_count": 13,
   "id": "e44bc1ad",
   "metadata": {},
   "outputs": [
    {
     "name": "stdout",
     "output_type": "stream",
     "text": [
      "o(3) Gauss med noise\n",
      "St 0.4197716133664301\n",
      "PC 0.3856763311864321\n",
      "SC 0.3943675131967949\n"
     ]
    }
   ],
   "source": [
    "print('o(3) Gauss med noise')\n",
    "\n",
    "cdiff = np.abs(o3_St_med - order_med[2])\n",
    "s3m=[np.mean(cdiff[:i]) for i in range(1,ite)]\n",
    "print('St', s3m[-1])\n",
    "\n",
    "cdiff = np.abs(o3_PC_med - order_med[2])\n",
    "p3m=[np.mean(cdiff[:i]) for i in range(1,ite)]\n",
    "print('PC', p3m[-1])\n",
    "\n",
    "cdiff = np.abs(o3_SC_med - order_med[2])\n",
    "c3m=[np.mean(cdiff[:i]) for i in range(1,ite)]\n",
    "print('SC', c3m[-1])\n"
   ]
  },
  {
   "cell_type": "code",
   "execution_count": 14,
   "id": "13ebe1a2",
   "metadata": {},
   "outputs": [
    {
     "name": "stdout",
     "output_type": "stream",
     "text": [
      "o(4) Gauss med noise\n",
      "St 0.2319843727318703\n",
      "PC 0.26559069586875567\n",
      "SC 0.2527991695985038\n"
     ]
    }
   ],
   "source": [
    "print('o(4) Gauss med noise')\n",
    "\n",
    "cdiff = np.abs(o4_St_med - order_med[3])\n",
    "s4m=[np.mean(cdiff[:i]) for i in range(1,ite)]\n",
    "print('St', s4m[-1])\n",
    "\n",
    "cdiff = np.abs(o4_PC_med - order_med[3])\n",
    "p4m=[np.mean(cdiff[:i]) for i in range(1,ite)]\n",
    "print('PC', p4m[-1])\n",
    "\n",
    "cdiff = np.abs(o4_SC_med - order_med[3])\n",
    "c4m=[np.mean(cdiff[:i]) for i in range(1,ite)]\n",
    "print('SC', c4m[-1])\n"
   ]
  },
  {
   "cell_type": "code",
   "execution_count": 15,
   "id": "f669230b",
   "metadata": {},
   "outputs": [
    {
     "name": "stdout",
     "output_type": "stream",
     "text": [
      "o(1) Gauss hig noise\n",
      "St 0.06279361202520974\n",
      "PC 0.048437045933684544\n",
      "SC 0.0622996932718861\n"
     ]
    }
   ],
   "source": [
    "print('o(1) Gauss hig noise')\n",
    "\n",
    "cdiff = np.abs(o1_St_hig - order_hig[0])\n",
    "s1h=[np.mean(cdiff[:i]) for i in range(1,ite)]\n",
    "print('St', s1h[-1])\n",
    "\n",
    "cdiff = np.abs(o1_PC_hig - order_hig[0])\n",
    "p1h=[np.mean(cdiff[:i]) for i in range(1,ite)]\n",
    "print('PC', p1h[-1])\n",
    "\n",
    "cdiff = np.abs(o1_SC_hig - order_hig[0])\n",
    "c1h=[np.mean(cdiff[:i]) for i in range(1,ite)]\n",
    "print('SC', c1h[-1])\n"
   ]
  },
  {
   "cell_type": "code",
   "execution_count": 16,
   "id": "9767262a",
   "metadata": {},
   "outputs": [
    {
     "name": "stdout",
     "output_type": "stream",
     "text": [
      "o(2) Gauss hig noise\n",
      "St 0.10193359274956386\n",
      "PC 0.07784433780064084\n",
      "SC 0.10217944363669768\n"
     ]
    }
   ],
   "source": [
    "print('o(2) Gauss hig noise')\n",
    "\n",
    "cdiff = np.abs(o2_St_hig - order_hig[1])\n",
    "s2h=[np.mean(cdiff[:i]) for i in range(1,ite)]\n",
    "print('St', s2h[-1])\n",
    "\n",
    "cdiff = np.abs(o2_PC_hig - order_hig[1])\n",
    "p2h=[np.mean(cdiff[:i]) for i in range(1,ite)]\n",
    "print('PC', p2h[-1])\n",
    "\n",
    "cdiff = np.abs(o2_SC_hig - order_hig[1])\n",
    "c2h=[np.mean(cdiff[:i]) for i in range(1,ite)]\n",
    "print('SC', c2h[-1])\n"
   ]
  },
  {
   "cell_type": "code",
   "execution_count": 17,
   "id": "ebba7f78",
   "metadata": {},
   "outputs": [
    {
     "name": "stdout",
     "output_type": "stream",
     "text": [
      "o(3) Gauss hig noise\n",
      "St 0.17862876859240495\n",
      "PC 0.22864803856650776\n",
      "SC 0.17974192683814424\n"
     ]
    }
   ],
   "source": [
    "print('o(3) Gauss hig noise')\n",
    "\n",
    "cdiff = np.abs(o3_St_hig - order_hig[2])\n",
    "s3h=[np.mean(cdiff[:i]) for i in range(1,ite)]\n",
    "print('St', s3h[-1])\n",
    "\n",
    "cdiff = np.abs(o3_PC_hig - order_hig[2])\n",
    "p3h=[np.mean(cdiff[:i]) for i in range(1,ite)]\n",
    "print('PC', p3h[-1])\n",
    "\n",
    "cdiff = np.abs(o3_SC_hig - order_hig[2])\n",
    "c3h=[np.mean(cdiff[:i]) for i in range(1,ite)]\n",
    "print('SC', c3h[-1])\n"
   ]
  },
  {
   "cell_type": "code",
   "execution_count": 18,
   "id": "b124d69c",
   "metadata": {},
   "outputs": [
    {
     "name": "stdout",
     "output_type": "stream",
     "text": [
      "o(4) Gauss hig noise\n",
      "St 0.21916072637813946\n",
      "PC 0.2923875343329996\n",
      "SC 0.2238685952624041\n"
     ]
    }
   ],
   "source": [
    "print('o(4) Gauss hig noise')\n",
    "\n",
    "cdiff = np.abs(o4_St_hig - order_hig[3])\n",
    "s4h=[np.mean(cdiff[:i]) for i in range(1,ite)]\n",
    "print('St', s4h[-1])\n",
    "\n",
    "cdiff = np.abs(o4_PC_hig - order_hig[3])\n",
    "p4h=[np.mean(cdiff[:i]) for i in range(1,ite)]\n",
    "print('PC', p4h[-1])\n",
    "\n",
    "cdiff = np.abs(o4_SC_hig - order_hig[3])\n",
    "c4h=[np.mean(cdiff[:i]) for i in range(1,ite)]\n",
    "print('SC', c4h[-1])\n",
    "#plt.plot(k,label=\"SoftCore\")\n"
   ]
  },
  {
   "cell_type": "code",
   "execution_count": 20,
   "id": "a0e226d7",
   "metadata": {
    "scrolled": true
   },
   "outputs": [
    {
     "data": {
      "image/png": "[encoded data removed]",
      "text/plain": [
       "<Figure size 792x1008 with 12 Axes>"
      ]
     },
     "metadata": {
      "needs_background": "light"
     },
     "output_type": "display_data"
    }
   ],
   "source": [
    "fig, ax = plt.subplots(4,3)\n",
    "\n",
    "fig.set_size_inches(11, 14)\n",
    "ax[0,0].plot(s1l)\n",
    "ax[0,0].plot(p1l)\n",
    "ax[0,0].plot(c1l)\n",
    "ax[0,0].set_ylim(yaxis)\n",
    "ax[0,0].xaxis.set_visible(False)\n",
    "\n",
    "ax[0,1].plot(s1m)\n",
    "ax[0,1].plot(p1m)\n",
    "ax[0,1].plot(c1m)\n",
    "ax[0,1].set_ylim(yaxis)\n",
    "ax[0,1].xaxis.set_visible(False)\n",
    "ax[0,1].yaxis.set_visible(False)\n",
    "\n",
    "ax[0,2].plot(s1h)\n",
    "ax[0,2].plot(p1h)\n",
    "ax[0,2].plot(c1h)\n",
    "ax[0,2].set_ylim(yaxis)\n",
    "ax[0,2].xaxis.set_visible(False)\n",
    "ax[0,2].yaxis.set_visible(False)\n",
    "\n",
    "\n",
    "ax[1,0].plot(s2l)\n",
    "ax[1,0].plot(p2l)\n",
    "ax[1,0].plot(c2l)\n",
    "ax[1,0].set_ylim(yaxis)\n",
    "ax[1,0].xaxis.set_visible(False)\n",
    "\n",
    "ax[1,1].plot(s2m)\n",
    "ax[1,1].plot(p2m)\n",
    "ax[1,1].plot(c2m)\n",
    "ax[1,1].set_ylim(yaxis)\n",
    "ax[1,1].xaxis.set_visible(False)\n",
    "ax[1,1].yaxis.set_visible(False)\n",
    "\n",
    "ax[1,2].plot(s3h)\n",
    "ax[1,2].plot(p3h)\n",
    "ax[1,2].plot(c3h)\n",
    "ax[1,2].set_ylim(yaxis)\n",
    "ax[1,2].xaxis.set_visible(False)\n",
    "ax[1,2].yaxis.set_visible(False)\n",
    "\n",
    "\n",
    "ax[2,0].plot(s3l)\n",
    "ax[2,0].plot(p3l)\n",
    "ax[2,0].plot(c3l)\n",
    "ax[2,0].set_ylim(yaxis)\n",
    "ax[2,0].xaxis.set_visible(False)\n",
    "\n",
    "ax[2,1].plot(s3m)\n",
    "ax[2,1].plot(p3m)\n",
    "ax[2,1].plot(c3m)\n",
    "ax[2,1].set_ylim(yaxis)\n",
    "ax[2,1].xaxis.set_visible(False)\n",
    "ax[2,1].yaxis.set_visible(False)\n",
    "\n",
    "ax[2,2].plot(s3h)\n",
    "ax[2,2].plot(p3h)\n",
    "ax[2,2].plot(c3h)\n",
    "ax[2,2].set_ylim(yaxis)\n",
    "ax[2,2].xaxis.set_visible(False)\n",
    "ax[2,2].yaxis.set_visible(False)\n",
    "\n",
    "\n",
    "ax[3,0].plot(s4l)\n",
    "ax[3,0].plot(p4l)\n",
    "ax[3,0].plot(c4l)\n",
    "ax[3,0].set_ylim(yaxis)\n",
    "\n",
    "ax[3,1].plot(s4m)\n",
    "ax[3,1].plot(p4m)\n",
    "ax[3,1].plot(c4m)\n",
    "ax[3,1].set_ylim(yaxis)\n",
    "ax[3,1].yaxis.set_visible(False)\n",
    "\n",
    "ax[3,2].plot(s4h,label='Strauss')\n",
    "ax[3,2].plot(p4h,label='PCPI')\n",
    "ax[3,2].plot(c4h,label='Softcore')\n",
    "ax[3,2].set_ylim(yaxis)\n",
    "ax[3,2].legend(bbox_to_anchor=(1, 1))\n",
    "ax[3,2].yaxis.set_visible(False)\n",
    "\n",
    "ax[0,0].title.set_text(\"Low noise, cov=0.005\")\n",
    "ax[0,1].title.set_text(\"Med noise, cov=0.01\")\n",
    "ax[0,2].title.set_text(\"High noise, cov=0.1\")\n",
    "\n",
    "ax[0,0].set_ylabel(\"o(1)\")\n",
    "ax[1,0].set_ylabel(\"o(2)\")\n",
    "ax[2,0].set_ylabel(\"o(3)\")\n",
    "ax[3,0].set_ylabel(\"o(4)\")\n",
    "\n",
    "plt.show()\n",
    "fig.savefig(\"images/GuasssRA.jpg\",bbox_inches = \"tight\")"
   ]
  },
  {
   "cell_type": "code",
   "execution_count": 1,
   "id": "1aeb32b0",
   "metadata": {},
   "outputs": [
    {
     "ename": "NameError",
     "evalue": "name 'np' is not defined",
     "output_type": "error",
     "traceback": [
      "\u001b[1;31m---------------------------------------------------------------------------\u001b[0m",
      "\u001b[1;31mNameError\u001b[0m                                 Traceback (most recent call last)",
      "Input \u001b[1;32mIn [1]\u001b[0m, in \u001b[0;36m<cell line: 2>\u001b[1;34m()\u001b[0m\n\u001b[0;32m      1\u001b[0m \u001b[38;5;66;03m#transfering of files for comparison to Voronoi tesselation PPMs\u001b[39;00m\n\u001b[1;32m----> 2\u001b[0m \u001b[43mnp\u001b[49m\u001b[38;5;241m.\u001b[39msave(\u001b[38;5;124m'\u001b[39m\u001b[38;5;124mRA_new/gc1l\u001b[39m\u001b[38;5;124m'\u001b[39m, c1l)\n\u001b[0;32m      3\u001b[0m np\u001b[38;5;241m.\u001b[39msave(\u001b[38;5;124m'\u001b[39m\u001b[38;5;124mRA_new/gp1l\u001b[39m\u001b[38;5;124m'\u001b[39m, p1l)\n\u001b[0;32m      4\u001b[0m np\u001b[38;5;241m.\u001b[39msave(\u001b[38;5;124m'\u001b[39m\u001b[38;5;124mRA_new/gs1l\u001b[39m\u001b[38;5;124m'\u001b[39m, s1l)\n",
      "\u001b[1;31mNameError\u001b[0m: name 'np' is not defined"
     ]
    }
   ],
   "source": [
    "#transfering of files for comparison to Voronoi tesselation PPMs\n",
    "np.save('RA_new/gc1l', c1l)\n",
    "np.save('RA_new/gp1l', p1l)\n",
    "np.save('RA_new/gs1l', s1l)\n",
    "\n",
    "np.save('RA_new/gc2m', c2m)\n",
    "np.save('RA_new/gp2m', p2m)\n",
    "np.save('RA_new/gs2m', s2m)\n",
    "\n",
    "np.save('RA_new/gc3h', c3h)\n",
    "np.save('RA_new/gp3h', p3h)\n",
    "np.save('RA_new/gs3h', s3h)"
   ]
  },
  {
   "cell_type": "code",
   "execution_count": null,
   "id": "473cebd2",
   "metadata": {},
   "outputs": [],
   "source": []
  }
 ],
 "metadata": {
  "kernelspec": {
   "display_name": "Python 3 (ipykernel)",
   "language": "python",
   "name": "python3"
  },
  "language_info": {
   "codemirror_mode": {
    "name": "ipython",
    "version": 3
   },
   "file_extension": ".py",
   "mimetype": "text/x-python",
   "name": "python",
   "nbconvert_exporter": "python",
   "pygments_lexer": "ipython3",
   "version": "3.9.12"
  }
 },
 "nbformat": 4,
 "nbformat_minor": 5
}
