{
 "cells": [
  {
   "cell_type": "code",
   "execution_count": 2,
   "id": "5d6d9d7b",
   "metadata": {},
   "outputs": [],
   "source": [
    "#original author: Austin Lawson\n",
    "#modifications: ic\n",
    "import numpy as np\n",
    "import matplotlib.pyplot as plt\n",
    "import matplotlib\n",
    "from scipy import stats\n",
    "%matplotlib inline\n",
    "from scipy.spatial.distance import pdist,cdist\n",
    "from scipy.stats import gaussian_kde\n",
    "from scipy.spatial import Voronoi, voronoi_plot_2d, ConvexHull\n",
    "from collections import defaultdict\n",
    "from shapely.geometry import Polygon,Point\n",
    "from operator import itemgetter\n",
    "import gudhi\n",
    "import scipy\n",
    "from scipy import optimize\n",
    "from scipy.spatial.distance import cdist\n",
    "from sklearn.mixture import GaussianMixture\n",
    "import patsy\n",
    "import statsmodels.api as sm\n",
    "from statsmodels.genmod.families import Poisson\n",
    "import pandas as pd"
   ]
  },
  {
   "cell_type": "code",
   "execution_count": 3,
   "id": "dafa82bb",
   "metadata": {},
   "outputs": [],
   "source": [
    "#sourced from PR_generation.ipynb\n",
    "pd1_low = np.load(\"PDoriginal/PDlownoise.npy\",allow_pickle=True)\n",
    "pd1_med = np.load(\"PDoriginal/PDmednoise.npy\",allow_pickle=True)\n",
    "pd1_hig = np.load(\"PDoriginal/PDhignoise.npy\",allow_pickle=True)"
   ]
  },
  {
   "cell_type": "code",
   "execution_count": 4,
   "id": "25e9955f",
   "metadata": {},
   "outputs": [],
   "source": [
    "def make_boundary(win):\n",
    "    \"\"\"\n",
    "    Makes a 4 corner boundary from a list of parameters\n",
    "    @param win: is a quadruple of the form (xmin,xmax,ymin,ymax)\n",
    "    @output boundary: a 4x2 array of rectangle vertices in cyclic order\n",
    "    \"\"\"\n",
    "    b1=win[0]\n",
    "    b2=win[1]\n",
    "    b3=win[2]\n",
    "    b4=win[3]\n",
    "    boundary = np.array([[b1,b3],[b1,b4],[b2,b4],[b2,b3]])\n",
    "    return boundary\n",
    "\n",
    "def voronoi_polygons(voronoi, diameter):\n",
    "    \"\"\"\n",
    "    Generate shapely.geometry.Polygon objects corresponding to the\n",
    "    regions of a scipy.spatial.Voronoi object, in the order of the\n",
    "    input voronoi. The polygons for the infinite regions are large\n",
    "    enough that all voronoi within a distance 'diameter' of a Voronoi\n",
    "    vertex are contained in one of the infinite polygons.\n",
    "    @param voronoi: A Voronoi object from scipy.spatial\n",
    "    @param diameter: A scalar\n",
    "    \"\"\"\n",
    "    centroid = voronoi.points.mean(axis=0)\n",
    "\n",
    "    # Mapping from (input point index, Voronoi point index) to list of\n",
    "    # unit vectors in the directions of the infinite ridges starting\n",
    "    # at the Voronoi point and neighbouring the input point.\n",
    "    ridge_direction = defaultdict(list)\n",
    "    for (p, q), rv in zip(voronoi.ridge_points, voronoi.ridge_vertices):\n",
    "        u, v = sorted(rv)\n",
    "        if u == -1:\n",
    "            # Infinite ridge starting at ridge point with index v,\n",
    "            # equidistant from input P with indexes p and q.\n",
    "            t = voronoi.points[q] - voronoi.points[p] # tangent\n",
    "            n = np.array([-t[1], t[0]]) / np.linalg.norm(t) # normal\n",
    "            midpoint = voronoi.points[[p, q]].mean(axis=0)\n",
    "            direction = np.sign(np.dot(midpoint - centroid, n)) * n\n",
    "            ridge_direction[p, v].append(direction)\n",
    "            ridge_direction[q, v].append(direction)\n",
    "\n",
    "    for i, r in enumerate(voronoi.point_region):\n",
    "        region = voronoi.regions[r]\n",
    "        if -1 not in region:\n",
    "            # Finite region.\n",
    "            yield Polygon(voronoi.vertices[region])\n",
    "            continue\n",
    "        # Infinite region.\n",
    "        inf = region.index(-1)              # Index of vertex at infinity.\n",
    "        j = region[(inf - 1) % len(region)] # Index of previous vertex.\n",
    "        k = region[(inf + 1) % len(region)] # Index of next vertex.\n",
    "        if j == k:\n",
    "            # Region has one Voronoi vertex with two ridges.\n",
    "            dir_j, dir_k = ridge_direction[i, j]\n",
    "        else:\n",
    "            # Region has two Voronoi vertices, each with one ridge.\n",
    "            dir_j, = ridge_direction[i, j]\n",
    "            dir_k, = ridge_direction[i, k]\n",
    "\n",
    "        # Length of ridges needed for the extra edge to lie at least\n",
    "        # 'diameter' away from all Voronoi vertices.\n",
    "        length = 2 * diameter / np.linalg.norm(dir_j + dir_k)\n",
    "\n",
    "        # Polygon consists of finite part plus an extra edge.\n",
    "        finite_part = voronoi.vertices[region[inf + 1:] + region[:inf]]\n",
    "        extra_edge = [voronoi.vertices[j] + dir_j * length,\n",
    "                      voronoi.vertices[k] + dir_k * length]\n",
    "        yield Polygon(np.concatenate((finite_part, extra_edge)))\n",
    "\n",
    "\n",
    "def get_unnormalized_areas(P,boundary):\n",
    "    \"\"\"\n",
    "    This produces a dictionary of areas normalized by the max for each Voronoi cell generated by P of @param P, \n",
    "    restricted to @param boundary\n",
    "    \n",
    "    @param P: an nx2 list of P in the plane\n",
    "    @param boundary: 4x2 list of rectangle vertices in cylcic order (best to just use the make_boundary function to create boundary from a 1-d vector)\n",
    "    @output polys: a dictionary of polygons that are the Voronoi cells where polys[i] is the voronoi cell polygon generated by P[i]\n",
    "    @output areas: a dictionary of areas where areas[i] is the area of the cell generated by P[i]\n",
    "    \"\"\"\n",
    "    V = Voronoi(P,qhull_options=\"Qc\",) #Computes a Voronoi diagram on P P\n",
    "    x, y = boundary.T #get boundary limits\n",
    "    diameter = np.linalg.norm(boundary.ptp(axis=0)) #computes the diameter of the rectangle\n",
    "    boundary_polygon = Polygon(boundary) #creates the boundary rectangle\n",
    "    #initialize the vornoi polygons and areas\n",
    "    polys = {} \n",
    "    areas = {}\n",
    "    k=0\n",
    "    for p in voronoi_polygons(V, diameter): #Get the areas of the voronoi polygons\n",
    "        x, y = zip(*p.intersection(boundary_polygon).exterior.coords)\n",
    "        poly = np.stack([x,y],axis=1)\n",
    "        polys[k] = poly\n",
    "        areas[k] = ConvexHull(poly).volume\n",
    "        k+=1\n",
    "    return polys,areas\n",
    "def get_areas(P,boundary):\n",
    "    \"\"\"\n",
    "    This produces a dictionary of areas normalized by the max for each Voronoi cell generated by P of @param P, \n",
    "    restricted to @param boundary\n",
    "    @param P: an nx2 list of P in the plane\n",
    "    @param boundary: 4x2 list of rectangle vertices in cylcic order (best to just use the make_boundary function to create boundary from a 1-d vector)\n",
    "    @output polys: a dictionary of polygons that are the Voronoi cells where polys[i] is the voronoi cell polygon generated by P[i]\n",
    "    @output aas: a dictionary of areas (normalize by maximum) where areas[i] is the normalized area of the cell generated by P[i]\n",
    "    \"\"\"\n",
    "    V = Voronoi(P,qhull_options=\"Qc\",) #Computes a Voronoi diagram on P P\n",
    "    x, y = boundary.T #get boundary limits\n",
    "    diameter = np.linalg.norm(boundary.ptp(axis=0)) #computes the diameter of the rectangle\n",
    "    boundary_polygon = Polygon(boundary) #creates the boundary rectangle\n",
    "    #initialize the vornoi polygons and areas\n",
    "    polys = {} \n",
    "    areas = {}\n",
    "    k=0\n",
    "    for p in voronoi_polygons(V, diameter): #Get the areas of the voronoi polygons\n",
    "        x, y = zip(*p.intersection(boundary_polygon).exterior.coords)\n",
    "        poly = np.stack([x,y],axis=1)\n",
    "        polys[k] = poly\n",
    "        areas[k] = ConvexHull(poly).volume\n",
    "        k+=1\n",
    "    aas = {k: v/max(areas.values()) for k,v in areas.items()} #normalize by max\n",
    "    return polys,aas\n",
    "\n",
    "def A(x,P,areas):\n",
    "    \"\"\"\n",
    "    for each point pt in the collection of P @param x, compute the normalized area of the voronoi cell where pt lies.\n",
    "    The Voronoi cells are generated by @param P and restricted to @param boundary.\n",
    "    @param x: an nx2 array of P in the plane for which to compute the areas\n",
    "    @param P: an nx2 array of P in the plane\n",
    "    @param areas: a nx1 array of area values associated to P in P\n",
    "    @output: the area of the Voronoi cell in which x lies\n",
    "    \"\"\"\n",
    "    #polys,areas = get_areas(P,boundary)\n",
    "    return itemgetter(*list(np.argmin(cdist(P,x),axis=0)))(areas)\n",
    "\n",
    "def h(x1,x2,theta,r):\n",
    "    \"\"\"\n",
    "    Computes the interaction value between two P given an interaction vector and distance jump vector\n",
    "    @param x1,x2: P between which to compute interaction (both should be 1x2)\n",
    "    @param theta: the interaction values, an nx1 vector\n",
    "    @param r: the distance jump vector, an nx1 vector\n",
    "    @output: the interaction value between x1 and x2\n",
    "    \"\"\"\n",
    "    dist = np.sqrt(np.sum(np.square(x1-x2))) #Compute the distance between x1,x2\n",
    "    loc = np.max(np.where(dist>=r))#find the index loc of r where dist is between r[loc] and r[loc+1]\n",
    "    if loc >= r.shape[0]-1:\n",
    "        return 1\n",
    "    t = theta[loc] #extract the theta value\n",
    "    return np.exp(t)\n",
    "\n",
    "def h_prod(D,theta,r):\n",
    "    \"\"\"\n",
    "    Computes the product of the interactions of points in a set D\n",
    "    @param D: an nx2 set of points in the plane\n",
    "    @param theta: the interaction values (a kx1 array)\n",
    "    @param r: the distance jump vector (a kx1 array)\n",
    "    @output H: the product of the interactions of points in D\n",
    "    \"\"\"\n",
    "    D = D.reshape(-1,2) #forces D to be 2-dimensional (this is useful in the case where D has just one point\n",
    "    #compute interaction product\n",
    "    H=0 #initialize H\n",
    "    for i in range(D.shape[0]-1):\n",
    "        for j in range(i+1,D.shape[0]): #loop over the indices of the upper trianglular matrix \n",
    "            x1 = D[i,:]\n",
    "            x2 = D[j,:]\n",
    "            H += np.log(h(x1,x2,theta,r)) #compute the interaction then take the log\n",
    "    H = np.exp(H) #exponentiate; i-H getting too big\n",
    "    return H\n",
    "\n",
    "def Q_diagram_sample(mg,sg,wt):\n",
    "    \"\"\"\n",
    "    Sample from a Gaussian mixture where each component has an isotropic covariance matrix\n",
    "    @param mg: the means of the components (nx2)\n",
    "    @param sg: the variances of the components (nx1)\n",
    "    @param wt: the weights of the components (nx1)\n",
    "    @output d_prop: the value sampled from the mixture\n",
    "    \"\"\"\n",
    "    g = np.random.choice(np.arange(wt.shape[0]),p = wt) #select one of the three components with propbability p\n",
    "    d_prop = stats.multivariate_normal.rvs(mean = mg[g,:],cov = sg[g]*np.eye(2)) #draw from multivariate normal\n",
    "    return d_prop\n",
    "\n",
    "def Q_diagram_eval(x,mg,sg,wt):\n",
    "    \"\"\"\n",
    "    evaluate a Gaussian mixture where each component has an isotropic covariance matrix at a given point or P\n",
    "    @param x: the point or P at which to evaluate the pdf (mx2)\n",
    "    @param mg: the means of the components (nx2)\n",
    "    @param sg: the variances of the components (nx1)\n",
    "    @param wt: the weights of the components (nx1) \n",
    "    @output out: the value of the pdf at x\n",
    "    \"\"\"\n",
    "    x = x.reshape(-1,2) #reshape x to an mx2 array\n",
    "    out = 0 #initialize the return\n",
    "    for i in range(wt.shape[0]): #loop over the three components and add their corresponding pdf values at x\n",
    "        out = out + wt[i]*stats.multivariate_normal.pdf(x,mean = mg[i,:],cov = sg[i])\n",
    "    return out\n",
    "\n",
    "def Q_max(boundary,mg,sg,wt,N=20):\n",
    "    \"\"\"ballpark estimate of sup of Q_diag_eval\"\"\"\n",
    "    b1,b2,b3,b4 = boundary[0,0],boundary[2,0],boundary[0,1],boundary[1,1]\n",
    "    dummyX  = np.linspace(b1, b2, N)\n",
    "    dummyY  = np.linspace(b3, b4, N)\n",
    "    Q = np.zeros((N,N))\n",
    "    for i in range(N-1):\n",
    "        for j in range(N-1):\n",
    "            xprop=np.array([dummyX[i],dummyY[j]])\n",
    "            Q[i,j]=Q_diagram_eval(xprop,mg,sg,wt)\n",
    "    q=np.max(Q)\n",
    "    return q"
   ]
  },
  {
   "cell_type": "code",
   "execution_count": 16,
   "id": "9dc05b0c",
   "metadata": {},
   "outputs": [],
   "source": [
    "def RPDG_add(D_current,gamma,r,boundary,lambdaW,mg,sg,wt,Q):\n",
    "    \"\"\"\n",
    "    Proposes, computes acceptance for adding a point, and returns result (accepted value or original)\n",
    "    @param D_current: An nx2 array of P\n",
    "    @param P: the Voronoi cell generating P (an mx2 array)\n",
    "    @param areas: the area values associated to P in P (an mx1 array)\n",
    "    @param gamma: The interaction value (singular value)\n",
    "    @param r: The distance jump value (singular value)\n",
    "    @param boundary: 4x2 list of rectangle vertices in cylcic order (best to just use the make_boundary function to create boundary from a 1-d vector)\n",
    "    @param lambdaW: a scalar (this is the average number of P in the boundary)\n",
    "    @output: If add is accepted, outputs D_current plus proposed point, otherwise outputs D_current\n",
    "    \"\"\"\n",
    "    \n",
    "    b1,b2,b3,b4 = boundary[0,0],boundary[2,0],boundary[0,1],boundary[1,1] #Get the boundary values in order xmin,xmax,ymin,ymax\n",
    "    #Q=Q_max(boundary,mg,sg,wt,N=20)\n",
    "    D_current = D_current.reshape(-1,2) #Force D to be 2-D\n",
    "    #The following samples a uniformly random point within the boundary\n",
    "    d_prop1 = np.random.uniform(b1,b2)\n",
    "    d_prop2 = np.random.uniform(b3,b4)\n",
    "    d_prop = np.array((d_prop1,d_prop2)).reshape(-1,2)\n",
    "    #Compute the interaction values between the proposed point and the existing P\n",
    "    h_prop = 0\n",
    "    for i in range(D_current.shape[0]):\n",
    "        h_prop = h_prop + np.log(h(D_current[i,:],d_prop,gamma,r))\n",
    "    #compute the acceptance probability (in accordance with the lemma in the RPDG paper) and evaluate\n",
    "    \n",
    "    q = Q_diagram_eval(d_prop,mg,sg,wt)\n",
    "    a = lambdaW*(np.exp(h_prop)*q/Q)/(D_current.shape[0]+1)\n",
    "    u = np.random.uniform()\n",
    "    if u<a:\n",
    "        return np.append(D_current,d_prop,axis=0)\n",
    "    return D_current\n",
    "\n",
    "def RPDG_rem(D_current, gamma, r, boundary ,lambdaW,mg,sg,wt,Q):\n",
    "    \"\"\"\n",
    "    Proposes and computes acceptance for removing a point, and returns either D_current or the proposed diagram\n",
    "    @param D_current: An nx2 array of P\n",
    "    @param P: the Voronoi cell generating P (an mx2 array)\n",
    "    @param areas: the area values associated to P in P (an mx1 array)\n",
    "    @param theta: The interaction vector (a kx1 array)\n",
    "    @param r: The distance jump vector (a kx1 array)\n",
    "    @param boundary: 4x2 list of rectangle vertices in cylcic order (best to just use the make_boundary function to create boundary from a 1-d vector)\n",
    "    @param lambdaW: a scalar (this is the average number of P in the boundary)\n",
    "    @output: If removal is accepted, outputs D_prop, otherwise outputs D_current \n",
    "    \"\"\"\n",
    "    D_current = D_current.reshape(-1,2) #This reshapes D_current to the correct shape (necessary if D_current contains only one point in the plane)\n",
    "    k = np.random.choice(np.arange(D_current.shape[0])) #Randomly select a point of D_current to drop\n",
    "    d_prop = D_current[k,:] #assign the selected point to d_prop\n",
    "    D_prop = np.delete(D_current,k,axis=0) #assign the set D_prop to D_current with the selected point deleted\n",
    "    D_prop = D_prop.reshape(-1,2) #reshape\n",
    "    h_prop = 0 #initilize the interaction\n",
    "    #Compute the interactions of d_prop with D_prop\n",
    "    \n",
    "    #Q = Q_max(boundary,mg,sg,wt,N=20)\n",
    "    q = Q_diagram_eval(d_prop,mg,sg,wt)\n",
    "    \n",
    "    for i in range(D_prop.shape[0]):\n",
    "        h_prop = h_prop + np.log(h(D_prop[i,:],d_prop.reshape(-1,2),gamma,r))\n",
    "    a = (D_current.shape[0]-1)/(np.exp(h_prop)*(q/Q)*lambdaW) #compute the acceptance probability\n",
    "    #decide whether to accept or reject proposal\n",
    "    u = np.random.uniform()\n",
    "    if u<a:\n",
    "        return D_prop\n",
    "    return D_current\n",
    "\n",
    "def RPDG_mov(D_current, gamma , r,boundary,mg,sg,wt,Q):\n",
    "    \"\"\"\n",
    "    Proposes, computes acceptance for moving a point, and returns result (accepted value or original). Uses both Q_diagram_sample and Q_diagram_eval\n",
    "    hence contains their inputs mg,sg,wt\n",
    "    @param D_current: An nx2 array of P\n",
    "    @param P: the Voronoi cell generating P (an mx2 array)\n",
    "    @param areas: the area values associated to P in P (an mx1 array)\n",
    "    @param theta: The interaction vector (a kx1 array)\n",
    "    @param r: The distance jump vector (a kx1 array)\n",
    "    @param boundary: 4x2 list of rectangle vertices in cylcic order (best to just use the make_boundary function to create boundary from a 1-d vector)\n",
    "    @param mg: the means of the components (nx2)\n",
    "    @param sg: the variances of the components (nx1)\n",
    "    @param wt: the weights of the components (nx1)\n",
    "    @output: if move is accepted, returns D_prop, otherwise returns D_current\n",
    "    \"\"\"\n",
    "    d_prop = Q_diagram_sample(mg,sg,wt) #propose a point\n",
    "    if not Polygon(boundary).contains(Point(d_prop)): #if the proposed point is not in the boundary, automatic reject\n",
    "        return D_current\n",
    "    \n",
    "    k = np.random.choice(np.arange(D_current.shape[0]))#select a random point in D_current\n",
    "    d_current = D_current[k,:]\n",
    "    #D_prop is D_current, but replaces the kth point of D with D_prop\n",
    "    D_prop = D_current.copy()\n",
    "    D_prop[k,:] = d_prop\n",
    "    #evaluate both individual P at D\n",
    "    #q_old = Q_diagram_eval(d_current,mg,sg,wt)\n",
    "    #q_prop = Q_diagram_eval(d_prop,mg,sg,wt)\n",
    "    \n",
    "    #Evaluate the areas of the Voronoi cells containing d_current and d_prop\n",
    "    #A_old = A(d_current.reshape(-1,2),P,areas)\n",
    "    #A_prop = A(d_prop.reshape(-1,2),P,areas)\n",
    "    \n",
    "    #Evaluate the product of the interactions in the two diagrams\n",
    "    H_old = h_prod(D_current,gamma,r)\n",
    "    H_prop = h_prod(D_prop,gamma,r)\n",
    "    \n",
    "    \n",
    "    #Divide the values\n",
    "    #qrat = np.exp(np.log(q_old)-np.log(q_prop))\n",
    "    #Arat = A_prop/A_old\n",
    "    Hrat = np.exp(np.log(H_prop)-np.log(H_old))\n",
    "    #a = qrat*Arat*Hrat\n",
    "    a = Hrat\n",
    "\n",
    "    u = np.random.uniform()\n",
    "    if u<a:\n",
    "         return D_prop\n",
    "    return D_current\n",
    "\n",
    "def RPDG_multi(steps,burnin,D_current, gamma, r,boundary,lambdaW,mg,sg,wt,probs=[1/3,1/3,1/3]):\n",
    "    \"\"\"\n",
    "    This function samples random diagrams given parameters\n",
    "    @param steps: the number of diagrams sampled\n",
    "    @param burnin: the number of diagrams to be cut from the beginning\n",
    "    @param D_current: The initial point set from which to begin the iteration\n",
    "    @param P: the Voronoi cell generating P (an mx2 array)\n",
    "    @param theta: the interaction vector\n",
    "    @param r: the distance jump vector\n",
    "    @param boundary: 4x2 list of rectangle vertices in cylcic order (best to just use the make_boundary function to create boundary from a 1-d vector)\n",
    "    @param probs: a triplet containing the probability of selecting add, remove, and move respectively\n",
    "    @output D_dict: The collection of all diagrams in the chain\n",
    "    \"\"\"\n",
    "    \n",
    "    D_dict = {} #initialize output\n",
    "    Q=Q_max(boundary,mg,sg,wt,N=50)\n",
    "    for i in range(steps):\n",
    "        j = np.random.choice(['a','r','m'],p = probs) #Pick action at random\n",
    "        if j=='a': #if add is selected, perform the add step\n",
    "            D_current = RPDG_add(D_current, gamma, r,boundary,lambdaW,mg,sg,wt,Q)\n",
    "        if j=='r': #if remove is selected, perform the remove step\n",
    "            if D_current.shape[0] == 0: #if the diagram is empty, there is nothing to remove\n",
    "                continue\n",
    "            D_current = RPDG_rem(D_current, gamma, r,boundary,lambdaW,mg,sg,wt,Q)\n",
    "        if j=='m': # if move is selected, perform the move step\n",
    "            if D_current.shape[0] == 0: #if the diagram is empty, there is nothing to move\n",
    "                continue\n",
    "            D_current = RPDG_mov(D_current, gamma, r,boundary,mg,sg,wt,Q)\n",
    "        if i>=burnin: #check if burnin has been reached, if so add to output\n",
    "            D_dict[i-burnin] = D_current\n",
    "    return D_dict"
   ]
  },
  {
   "cell_type": "code",
   "execution_count": 17,
   "id": "ce7cefb4",
   "metadata": {},
   "outputs": [],
   "source": [
    "#Parameters selection\n",
    "\n",
    "#low boundary window\n",
    "win_l = (0,.5,0,2) #xmin, xmax, ymin, ymax\n",
    "boundary_l = make_boundary(win_l)\n",
    "\n",
    "#medium boundary window\n",
    "win_m = (0,.5,0,1.8) #xmin, xmax, ymin, ymax\n",
    "boundary_m = make_boundary(win_m)\n",
    "\n",
    "#high boundary window\n",
    "win_h = (0,1.2,0,.8) #xmin, xmax, ymin, ymax\n",
    "boundary_h = make_boundary(win_h)\n",
    "\n",
    "#r selection first term must be 0\n",
    "r = np.array([0,0.3,0.6,0.9])"
   ]
  },
  {
   "cell_type": "code",
   "execution_count": 18,
   "id": "6ca1a1b4",
   "metadata": {},
   "outputs": [],
   "source": [
    "def Hu(u,data,r):\n",
    "    \"\"\"\n",
    "    Computes the interaction indicator vector. Given a 1x2 input  <u>, this function returns an <r>.shape[0]-1 length integer vector <out> where\n",
    "    <out>[i] is the number of P in data that are between r[i] and r[i+1] in distance to u.\n",
    "    \n",
    "    Reference the text below Eq. (5) in rpdg paper. The definition of H is this function Hu.\n",
    "    \n",
    "    @param u: a 1x2 array, the point with which to compare with data\n",
    "    @param data: The observed diagram (an nx2 array)\n",
    "    @param r: The distance jump vector (a kx1 array)\n",
    "    @output out: a kx1 integer array of counts\n",
    "    \"\"\"\n",
    "    def f(x): #this is a local function that returns the index i where x is between r[i] and r[i+1]\n",
    "        loc = np.max(np.where(x>=r))\n",
    "        if loc >= r.shape[0]-1:\n",
    "            return -1\n",
    "        return loc\n",
    "    dists1 = cdist(u.reshape(-1,2),data) #compute distance of u to data\n",
    "    dists2 = dists1.reshape(-1) #reshape for list comprehension\n",
    "    idx = np.array([f(x) for x in dists2],dtype = int).reshape(dists1.shape) #compute the indices via f for each computed distance\n",
    "    bins = np.linspace(-0.5,r.shape[0]-1.5,r.shape[0]) #set up bins for counting\n",
    "    out = np.histogram(idx,bins = bins)[0] #count\n",
    "    if ((u.reshape(-1,2)-data).sum(axis=1) == 0).sum() == 1: #if u is a data point, remove one from the first bin\n",
    "        out[0] = out[0]-1\n",
    "    return out\n",
    "\n",
    "    #Compute the interaction indicator vectors\n"
   ]
  },
  {
   "cell_type": "code",
   "execution_count": 19,
   "id": "253bad98",
   "metadata": {},
   "outputs": [],
   "source": [
    "def get_theta_loglin(data,boundary,r,mg,sg,wt,prnt = True):\n",
    "    \"\"\"\n",
    "    ORIGNALLLY BASED FOR VORONOI SPATIAL, MANY PARTS CUT\n",
    "    Estimates the interaction parameter theta via log-linear Poisson regression\n",
    "    @param P: the Voronoi cell generating P (an mx2 array)\n",
    "    @param data: The observed diagram (an nx2 array)\n",
    "    @param boundary: 4x2 list of rectangle vertices in cylcic order (best to just use the make_boundary function to create boundary from a 1-d vector)\n",
    "    @param r: The distance jump vector (a kx1 array)\n",
    "    @param prnt: if True prints a summary of the loglinear regression results\n",
    "    @output theta_loglin: the estimated interaction parameter\n",
    "    \"\"\"\n",
    "    #spatial_pattern = np.array(list(get_areas(P,boundary)[1].values())) \n",
    "    unnorm_areas = np.array([Q_diagram_eval(data[i],mg,sg,wt) for i in range(data.shape[0])])\n",
    "    Qm = Q_max(boundary,mg,sg,wt,N=50)\n",
    "    spatial_pattern = (1/Qm) * unnorm_areas\n",
    "    \n",
    "    #Compute the interaction indicator vectors\n",
    "    H = np.zeros([data.shape[0],r.shape[0]-1]) #initialize H\n",
    "    for j in range(data.shape[0]):\n",
    "        H[j,:] = Hu(data[j,:],data,r)\n",
    "    y = np.zeros(data.shape[0]) #initialize the response variable\n",
    "    for j in range(data.shape[0]):\n",
    "        y[j] = 1/spatial_pattern[j]  \n",
    "    #create dataframe of response and variables\n",
    "    columns = [\"response\"]\n",
    "    for i in range(r.shape[0]):\n",
    "        columns.append(\"V\"+str(i+1))\n",
    "    columns.append(\"weights\")\n",
    "    df = pd.DataFrame(np.vstack([y,H[:,:r.shape[0]-1].T,np.log(spatial_pattern),spatial_pattern]).T,columns = columns)\n",
    "    df.head()\n",
    "   \n",
    "    fam = Poisson()\n",
    "    f = 'response ~ V1'\n",
    "    for i in range(r.shape[0]-2):\n",
    "        f = f+\"+V\"+str(i+2)\n",
    "    f = f + \"-1\"\n",
    "    yres, X = patsy.dmatrices(f, df, return_type='matrix')\n",
    "    \n",
    "    p_model = sm.GLM(yres, X, family=fam, var_weights = unnorm_areas)\n",
    "    \n",
    "    result = p_model.fit()\n",
    "    if prnt:\n",
    "        print(result.summary())\n",
    "    theta_loglin = result.params\n",
    "    return theta_loglin"
   ]
  },
  {
   "cell_type": "markdown",
   "id": "26c3a562",
   "metadata": {},
   "source": [
    "## Selection of Gaussian Mixture Parameters"
   ]
  },
  {
   "cell_type": "code",
   "execution_count": 20,
   "id": "5c3b4146",
   "metadata": {},
   "outputs": [
    {
     "data": {
      "text/plain": [
       "<matplotlib.collections.PathCollection at 0x26bfe06ffd0>"
      ]
     },
     "execution_count": 20,
     "metadata": {},
     "output_type": "execute_result"
    },
    {
     "data": {
      "image/png": "[encoded data removed]",
      "text/plain": [
       "<Figure size 432x288 with 1 Axes>"
      ]
     },
     "metadata": {
      "needs_background": "light"
     },
     "output_type": "display_data"
    }
   ],
   "source": [
    "plt.scatter(*pd1_low.T)\n",
    "#mg_low2 = np.array([[.43,1.77],[.38,1.24],[.27,.96],[.26,.45],[.12,0]])\n",
    "#plt.scatter(*mg_low2.T)\n",
    "\n",
    "N = 4   #Takes N most persistent points in PD\n",
    "pd_sort = pd1_low[pd1_low[:, 1].argsort()[::-1]]\n",
    "ft = pd_sort[:N,:]\n",
    "ns=np.average(pd_sort[N+1:,:],axis=0)\n",
    "#ns = [.25,0] #manual noise location\n",
    "mg_low= np.vstack((ft,ns))\n",
    "plt.scatter(*mg_low.T)"
   ]
  },
  {
   "cell_type": "code",
   "execution_count": 21,
   "id": "90be84e7",
   "metadata": {},
   "outputs": [
    {
     "data": {
      "text/plain": [
       "<matplotlib.collections.PathCollection at 0x26bfe7876a0>"
      ]
     },
     "execution_count": 21,
     "metadata": {},
     "output_type": "execute_result"
    },
    {
     "data": {
      "image/png": "[encoded data removed]",
      "text/plain": [
       "<Figure size 432x288 with 1 Axes>"
      ]
     },
     "metadata": {
      "needs_background": "light"
     },
     "output_type": "display_data"
    }
   ],
   "source": [
    "plt.scatter(*pd1_med.T)\n",
    "N = 4   #Takes N most persistent points in PD\n",
    "pd_sort = pd1_med[pd1_med[:, 1].argsort()[::-1]]\n",
    "ft = pd_sort[:N,:]\n",
    "ns=np.average(pd_sort[N+1:,:],axis=0)\n",
    "#ns = [.25,0] #manual noise location\n",
    "mg_med= np.vstack((ft,ns))\n",
    "plt.scatter(*mg_med.T)"
   ]
  },
  {
   "cell_type": "code",
   "execution_count": 22,
   "id": "720d5bd3",
   "metadata": {},
   "outputs": [
    {
     "data": {
      "text/plain": [
       "<matplotlib.collections.PathCollection at 0x26bfe808310>"
      ]
     },
     "execution_count": 22,
     "metadata": {},
     "output_type": "execute_result"
    },
    {
     "data": {
      "image/png": "[encoded data removed]",
      "text/plain": [
       "<Figure size 432x288 with 1 Axes>"
      ]
     },
     "metadata": {
      "needs_background": "light"
     },
     "output_type": "display_data"
    }
   ],
   "source": [
    "plt.scatter(*pd1_hig.T)\n",
    "#mg_hig = np.array([[.65,.75],[.54,.66],[.4,.36],[.3,0],[.7,0]])\n",
    "N = 4   #Takes N most persistent points in PD\n",
    "pd_sort = pd1_hig[pd1_hig[:, 1].argsort()[::-1]]\n",
    "ft = pd_sort[:N,:]\n",
    "ns=np.average(pd_sort[N+1:,:],axis=0)\n",
    "#ns = [.25,0] #manual noise location\n",
    "mg_hig= np.vstack((ft,ns))\n",
    "plt.scatter(*mg_hig.T)"
   ]
  },
  {
   "cell_type": "code",
   "execution_count": 27,
   "id": "af6fce69",
   "metadata": {},
   "outputs": [],
   "source": [
    "def Gausscont(boundary, mg, sg, wt, N=50):\n",
    "    \"\"\"\n",
    "    Gereates visual representaion of gaussian mixture in the form of a heatmap\n",
    "    @Param boundary: values of the boundary (a 4x1 array)\n",
    "    @mg: means of the gausian mixture (a 2xn array)\n",
    "    @sg: covarience coeff. of the gausian mixture (an 1xn array)\n",
    "    @wt: weights of the gausian mixture (an 1xn array)\n",
    "    @N: resolution (an integer value)\n",
    "    @output: relative heatmap of gaussian mixture (a figure)\n",
    "    \n",
    "    \"\"\"\n",
    "    b1,b2,b3,b4 = boundary[0,0],boundary[2,0],boundary[0,1],boundary[1,1]\n",
    "    x = np.linspace(b1,b2,N)\n",
    "    y = np.linspace(b3,b4,N)\n",
    "    qmap=np.zeros([N,N])\n",
    "    for n in np.arange(N-1):\n",
    "        for m in np.arange(N-1):\n",
    "            p=np.array([x[n],y[m]])\n",
    "            qmap[n,m]=Q_diagram_eval(p,mg,sg,wt)\n",
    "            \n",
    "    qmap2=qmap/np.max(qmap)\n",
    "    fig=plt.contourf(x,y,qmap2.T,20)\n",
    "    plt.colorbar()\n",
    "    return fig"
   ]
  },
  {
   "cell_type": "code",
   "execution_count": 28,
   "id": "016160b8",
   "metadata": {},
   "outputs": [
    {
     "data": {
      "text/plain": [
       "0.9607505357070338"
      ]
     },
     "execution_count": 28,
     "metadata": {},
     "output_type": "execute_result"
    }
   ],
   "source": [
    "mg = mg_low #the means of the components\n",
    "sg = np.array([0.01,0.01,.01,.01,.03]) #the st. devs of the components\n",
    "k=.14\n",
    "wt = np.array([k,k,k,k,1-(k*4)])\n",
    "\n",
    "noiseQ=Q_diagram_eval(mg_low[-1,:],mg,sg,wt)\n",
    "peakQ=Q_diagram_eval(mg_low[1,:],mg,sg,wt)\n",
    "\n",
    "peakQ/noiseQ"
   ]
  },
  {
   "cell_type": "code",
   "execution_count": 29,
   "id": "70b6cbe8",
   "metadata": {},
   "outputs": [
    {
     "data": {
      "image/png": "[encoded data removed]",
      "text/plain": [
       "<Figure size 432x288 with 2 Axes>"
      ]
     },
     "metadata": {
      "needs_background": "light"
     },
     "output_type": "display_data"
    }
   ],
   "source": [
    "mg = mg_low #the means of the components\n",
    "sg = np.array([0.01,0.01,.01,.01,.03]) #the st. devs of the components\n",
    "k=.14\n",
    "wt = np.array([k,k,k,k,1-(k*4)])\n",
    "#wt = np.array([0.15,0.15,.15,.15,.4])\n",
    "\n",
    "ctf_low = Gausscont(boundary_l, mg, sg, wt, N=50)\n",
    "plt.scatter(*pd1_low.T,color='white')\n",
    "plt.savefig(\"images/GMM_low.png\")"
   ]
  },
  {
   "cell_type": "code",
   "execution_count": 30,
   "id": "5f662073",
   "metadata": {},
   "outputs": [
    {
     "data": {
      "image/png": "[encoded data removed]",
      "text/plain": [
       "<Figure size 432x288 with 2 Axes>"
      ]
     },
     "metadata": {
      "needs_background": "light"
     },
     "output_type": "display_data"
    }
   ],
   "source": [
    "mg = mg_med #the means of the components\n",
    "sg = np.array([0.01,0.01,.01,.01,.03]) #the st. devs of the components\n",
    "k=.14\n",
    "wt = np.array([k,k,k,k*.9,1-(k*3.9)])\n",
    "\n",
    "ctf_med = Gausscont(boundary_m, mg, sg, wt, N=50)\n",
    "plt.scatter(*pd1_med.T,color='white')\n",
    "plt.savefig(\"images/GMM_med.png\")\n",
    "#print(Q_diagram_eval(mg_med[1,:],mg,sg,wt)/Q_diagram_eval(mg_med[-2,:],mg,sg,wt),Q_diagram_eval(mg_med[-1,:],mg,sg,wt)/Q_diagram_eval(mg_med[-2,:],mg,sg,wt))"
   ]
  },
  {
   "cell_type": "code",
   "execution_count": 31,
   "id": "bba1d479",
   "metadata": {},
   "outputs": [
    {
     "data": {
      "image/png": "[encoded data removed]",
      "text/plain": [
       "<Figure size 432x288 with 2 Axes>"
      ]
     },
     "metadata": {
      "needs_background": "light"
     },
     "output_type": "display_data"
    }
   ],
   "source": [
    "mg = mg_hig #the means of the components\n",
    "sg = np.array([0.01,0.01,.01,.01,.04]) #the st. devs of the components\n",
    "k=.1\n",
    "wt = np.array([k,k,k,k,1-(k*4)])\n",
    "#k=.11\n",
    "#wt = np.array([k,k,k,(1-k*3)/2,(1-(k*3))/2])\n",
    "\n",
    "ctf_hig = Gausscont(boundary_h, mg, sg, wt, N=50)\n",
    "plt.scatter(*pd1_hig.T,color='white')\n",
    "plt.savefig(\"images/GMM_hig.png\")\n",
    "#print(Q_diagram_eval(mg_hig[0,:],mg,sg,wt)/Q_diagram_eval(mg_hig[-1,:],mg,sg,wt),Q_diagram_eval(mg_hig[-1,:],mg,sg,wt)/Q_diagram_eval(mg_hig[-2,:],mg,sg,wt))"
   ]
  },
  {
   "cell_type": "code",
   "execution_count": 32,
   "id": "0e125dee",
   "metadata": {},
   "outputs": [
    {
     "name": "stdout",
     "output_type": "stream",
     "text": [
      "                 Generalized Linear Model Regression Results                  \n",
      "==============================================================================\n",
      "Dep. Variable:               response   No. Observations:                    8\n",
      "Model:                            GLM   Df Residuals:                        5\n",
      "Model Family:                 Poisson   Df Model:                            2\n",
      "Link Function:                    Log   Scale:                          1.0000\n",
      "Method:                          IRLS   Log-Likelihood:                -18.380\n",
      "Date:                Mon, 10 Apr 2023   Deviance:                    0.0048132\n",
      "Time:                        11:10:10   Pearson chi2:                  0.00483\n",
      "No. Iterations:                     3   Pseudo R-squ. (CS):          0.0002990\n",
      "Covariance Type:            nonrobust                                         \n",
      "==============================================================================\n",
      "                 coef    std err          z      P>|z|      [0.025      0.975]\n",
      "------------------------------------------------------------------------------\n",
      "V1             0.0077      0.116      0.067      0.947      -0.220       0.235\n",
      "V2            -0.0071      0.166     -0.043      0.966      -0.333       0.318\n",
      "V3             0.0312      0.348      0.089      0.929      -0.652       0.714\n",
      "==============================================================================\n",
      "[1.00775392 0.99288584 1.0316751 ]\n"
     ]
    }
   ],
   "source": [
    "mg = mg_low #the means of the components\n",
    "sg = np.array([0.01,0.01,.01,.01,.03]) #the st. devs of the components\n",
    "k=.14\n",
    "wt = np.array([k,k,k,k,1-(k*4)])\n",
    "\n",
    "theta_low = get_theta_loglin(pd1_low,boundary_l,r,mg,sg,wt)\n",
    "print(np.exp(theta_low))"
   ]
  },
  {
   "cell_type": "code",
   "execution_count": 33,
   "id": "57882338",
   "metadata": {},
   "outputs": [
    {
     "name": "stdout",
     "output_type": "stream",
     "text": [
      "                 Generalized Linear Model Regression Results                  \n",
      "==============================================================================\n",
      "Dep. Variable:               response   No. Observations:                   16\n",
      "Model:                            GLM   Df Residuals:                       13\n",
      "Model Family:                 Poisson   Df Model:                            2\n",
      "Link Function:                    Log   Scale:                          1.0000\n",
      "Method:                          IRLS   Log-Likelihood:                -39.776\n",
      "Date:                Mon, 10 Apr 2023   Deviance:                       1.4433\n",
      "Time:                        11:10:24   Pearson chi2:                     1.62\n",
      "No. Iterations:                     4   Pseudo R-squ. (CS):           -0.01408\n",
      "Covariance Type:            nonrobust                                         \n",
      "==============================================================================\n",
      "                 coef    std err          z      P>|z|      [0.025      0.975]\n",
      "------------------------------------------------------------------------------\n",
      "V1             0.0190      0.017      1.148      0.251      -0.013       0.052\n",
      "V2             0.0288      0.120      0.240      0.810      -0.206       0.264\n",
      "V3             0.0183      0.045      0.408      0.683      -0.070       0.106\n",
      "==============================================================================\n",
      "[1.01922729 1.02924033 1.01850036]\n",
      "NO ='(\n"
     ]
    },
    {
     "data": {
      "text/plain": [
       "1.0192272871970673"
      ]
     },
     "execution_count": 33,
     "metadata": {},
     "output_type": "execute_result"
    }
   ],
   "source": [
    "mg = mg_med #the means of the components\n",
    "sg = np.array([0.01,0.01,.01,.01,.03]) #the st. devs of the components\n",
    "k=.14\n",
    "wt = np.array([k,k,k,k*.9,1-(k*3.9)])\n",
    "\n",
    "theta_med = get_theta_loglin(pd1_med,boundary_m,r,mg,sg,wt)\n",
    "print(np.exp(theta_med))"
   ]
  },
  {
   "cell_type": "code",
   "execution_count": 24,
   "id": "aafc6250",
   "metadata": {
    "scrolled": true
   },
   "outputs": [
    {
     "name": "stdout",
     "output_type": "stream",
     "text": [
      "                 Generalized Linear Model Regression Results                  \n",
      "==============================================================================\n",
      "Dep. Variable:               response   No. Observations:                   46\n",
      "Model:                            GLM   Df Residuals:                       43\n",
      "Model Family:                 Poisson   Df Model:                            2\n",
      "Link Function:                    Log   Scale:                          1.0000\n",
      "Method:                          IRLS   Log-Likelihood:                -127.43\n",
      "Date:                Mon, 27 Mar 2023   Deviance:                       47.287\n",
      "Time:                        14:52:50   Pearson chi2:                     542.\n",
      "No. Iterations:                     6   Pseudo R-squ. (CS):             0.1058\n",
      "Covariance Type:            nonrobust                                         \n",
      "==============================================================================\n",
      "                 coef    std err          z      P>|z|      [0.025      0.975]\n",
      "------------------------------------------------------------------------------\n",
      "V1             0.0023      0.004      0.588      0.556      -0.005       0.010\n",
      "V2             0.0266      0.009      3.128      0.002       0.010       0.043\n",
      "V3             0.0175      0.009      2.028      0.043       0.001       0.034\n",
      "==============================================================================\n",
      "[1.00229134 1.02697822 1.01762052]\n"
     ]
    }
   ],
   "source": [
    "mg = mg_hig #the means of the components\n",
    "sg = np.array([0.01,0.01,.01,.01,.04]) #the st. devs of the components\n",
    "k=.1\n",
    "wt = np.array([k,k,k,k,1-(k*4)])\n",
    "\n",
    "theta_hig = get_theta_loglin(pd1_hig,boundary_h,r,mg,sg,wt)\n",
    "print(np.exp(theta_hig))"
   ]
  },
  {
   "cell_type": "code",
   "execution_count": 21,
   "id": "cd770b6e",
   "metadata": {},
   "outputs": [],
   "source": [
    "np.random.seed(11)\n",
    "steps = 100000\n",
    "burnin =0\n",
    "p_a = 0.4\n",
    "p_r = 0.2\n",
    "p_m = 0.4\n",
    "\n",
    "\n",
    "lambdaW = pd1_low.shape[0]\n",
    "mg = mg_low #the means of the components\n",
    "sg = np.array([0.01,0.01,.01,.01,.03]) #the st. devs of the components\n",
    "k=.14\n",
    "wt = np.array([k,k,k,k,1-(k*4)])\n",
    "\n",
    "D_low = RPDG_multi(steps, burnin, pd1_low, theta_low, r, boundary_l, lambdaW, mg, sg, wt, probs=[p_a,p_r,p_m])\n"
   ]
  },
  {
   "cell_type": "code",
   "execution_count": 22,
   "id": "1fcd5f42",
   "metadata": {},
   "outputs": [],
   "source": [
    "np.random.seed(222)\n",
    "steps = 100000\n",
    "burnin =0\n",
    "p_a = 0.33\n",
    "p_r = 0.33\n",
    "p_m = 0.34\n",
    "\n",
    "\n",
    "lambdaW = pd1_med.shape[0]\n",
    "mg = mg_med #the means of the components\n",
    "sg = np.array([0.01,0.01,.01,.01,.03]) #the st. devs of the components\n",
    "k=.14\n",
    "wt = np.array([k,k,k,k*.9,1-(k*3.9)])\n",
    "\n",
    "D_med = RPDG_multi(steps, burnin, pd1_med, theta_med, r, boundary_m, lambdaW, mg, sg, wt, probs=[p_a,p_r,p_m])"
   ]
  },
  {
   "cell_type": "code",
   "execution_count": 23,
   "id": "75a16f39",
   "metadata": {},
   "outputs": [],
   "source": [
    "np.random.seed(3333)\n",
    "steps = 100000\n",
    "burnin =0\n",
    "p_a = 0.33\n",
    "p_r = 0.33\n",
    "p_m = 0.34\n",
    "\n",
    "\n",
    "lambdaW = pd1_hig.shape[0]\n",
    "mg = mg_hig #the means of the components\n",
    "sg = np.array([0.01,0.01,.01,.01,.04]) #the st. devs of the components\n",
    "k=.1\n",
    "wt = np.array([k,k,k,k,1-(k*4)])\n",
    "\n",
    "\n",
    "D_hig = RPDG_multi(steps, burnin, pd1_hig, theta_hig, r, boundary_h, lambdaW, mg, sg, wt, probs=[p_a,p_r,p_m])"
   ]
  },
  {
   "cell_type": "code",
   "execution_count": 25,
   "id": "c368c793",
   "metadata": {},
   "outputs": [],
   "source": [
    "np.save('PDchains/LowNoisePCPI_G', D_low)\n",
    "np.save('PDchains/MedNoisePCPI_G', D_med)\n",
    "np.save('PDchains/HigNoisePCPI_G', D_hig)"
   ]
  },
  {
   "cell_type": "code",
   "execution_count": null,
   "id": "af0a7cae",
   "metadata": {},
   "outputs": [],
   "source": []
  }
 ],
 "metadata": {
  "kernelspec": {
   "display_name": "Python 3 (ipykernel)",
   "language": "python",
   "name": "python3"
  },
  "language_info": {
   "codemirror_mode": {
    "name": "ipython",
    "version": 3
   },
   "file_extension": ".py",
   "mimetype": "text/x-python",
   "name": "python",
   "nbconvert_exporter": "python",
   "pygments_lexer": "ipython3",
   "version": "3.9.12"
  }
 },
 "nbformat": 4,
 "nbformat_minor": 5
}
